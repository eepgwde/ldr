{
 "cells": [
  {
   "cell_type": "markdown",
   "metadata": {},
   "source": [
    "Demonstrate we can specify a simple interface to load data sources."
   ]
  },
  {
   "cell_type": "code",
   "execution_count": 1,
   "metadata": {},
   "outputs": [],
   "source": [
    "import numpy as np\n",
    "import pandas as pd\n",
    "\n",
    "%load_ext autoreload"
   ]
  },
  {
   "cell_type": "code",
   "execution_count": 2,
   "metadata": {},
   "outputs": [],
   "source": [
    "%autoreload 2\n",
    "\n",
    "from ldr import Schema, Filter, Selector\n",
    "from ingresso import Sales0"
   ]
  },
  {
   "cell_type": "code",
   "execution_count": 3,
   "metadata": {},
   "outputs": [],
   "source": [
    "sources = { \"fx\": [ \"tests/media/gbp-usd.csv\", Schema(desc = \"fx\") ], \n",
    "           \"fx2\": [ \"tests/media/gbp-usd2.csv\", Schema(desc = \"fx-fxcm\") ], \n",
    "           \"sales\": [ \"tests/media/sales.csv\", Schema(desc = \"sales\") ],  \n",
    "           \"weather\": [ \"tests/media/london.csv\", Schema(desc = \"weather\") ],\n",
    "           \"weather2\": [ \"tests/media/metoffice.csv\", Schema(desc = \"weather-metoffice\") ] }"
   ]
  },
  {
   "cell_type": "code",
   "execution_count": 4,
   "metadata": {},
   "outputs": [],
   "source": [
    "filters = list(map( lambda x: Filter(x[0], x[1]), sources.values()))"
   ]
  },
  {
   "cell_type": "code",
   "execution_count": 5,
   "metadata": {},
   "outputs": [],
   "source": [
    "def postprocess0(f0):\n",
    "    f0.series(\"datetime\", index=True)\n",
    "    return f0.series(\"value\")"
   ]
  },
  {
   "cell_type": "code",
   "execution_count": 6,
   "metadata": {},
   "outputs": [],
   "source": [
    "series = list(map(lambda x: postprocess0(x), filters))"
   ]
  },
  {
   "cell_type": "markdown",
   "metadata": {},
   "source": [
    "Finally, merge the series together, we pass the monthly Met-office series separately."
   ]
  },
  {
   "cell_type": "code",
   "execution_count": 25,
   "metadata": {},
   "outputs": [
    {
     "name": "stdout",
     "output_type": "stream",
     "text": [
      "'Sales0: ()'\n",
      "'Sales0: (fx, fx-fxcm, sales, weather)'\n"
     ]
    }
   ],
   "source": [
    "s0s = list(filter(lambda x: x.name != \"weather-metoffice\", series))\n",
    "s1 = list(filter(lambda x: x.name == \"weather-metoffice\", series))\n",
    "df = pd.DataFrame(s0s).transpose()\n",
    "s0 = Sales0(df, metoffice=s1)\n",
    "print(s0)\n",
    "s0.constrain()\n",
    "print(s0)"
   ]
  },
  {
   "cell_type": "code",
   "execution_count": 26,
   "metadata": {},
   "outputs": [
    {
     "name": "stdout",
     "output_type": "stream",
     "text": [
      "               fx      fx-fxcm        sales      weather\n",
      "count  788.000000  1578.000000  1864.000000  1773.000000\n",
      "mean     1.366371     1.460032  1115.015558    12.029724\n",
      "std      0.098996     0.143808   927.505853     5.406125\n",
      "min      1.204800     1.199990     0.000000    -4.100000\n",
      "25%      1.292975     1.322625   310.000000     7.900000\n",
      "50%      1.338350     1.472945   852.500000    11.900000\n",
      "75%      1.437975     1.570043  1805.250000    16.300000\n",
      "max      1.577600     1.716680  4864.000000    27.900000\n",
      "series-length: 1864\n",
      "DatetimeIndex(['2013-06-11', '2018-07-18'], dtype='datetime64[ns]', name='dt0', freq=None)\n"
     ]
    },
    {
     "data": {
      "text/html": [
       "<div>\n",
       "<style scoped>\n",
       "    .dataframe tbody tr th:only-of-type {\n",
       "        vertical-align: middle;\n",
       "    }\n",
       "\n",
       "    .dataframe tbody tr th {\n",
       "        vertical-align: top;\n",
       "    }\n",
       "\n",
       "    .dataframe thead th {\n",
       "        text-align: right;\n",
       "    }\n",
       "</style>\n",
       "<table border=\"1\" class=\"dataframe\">\n",
       "  <thead>\n",
       "    <tr style=\"text-align: right;\">\n",
       "      <th></th>\n",
       "      <th>N</th>\n",
       "      <th>R</th>\n",
       "    </tr>\n",
       "  </thead>\n",
       "  <tbody>\n",
       "    <tr>\n",
       "      <th>fx</th>\n",
       "      <td>1076</td>\n",
       "      <td>0.6</td>\n",
       "    </tr>\n",
       "    <tr>\n",
       "      <th>fx-fxcm</th>\n",
       "      <td>286</td>\n",
       "      <td>0.2</td>\n",
       "    </tr>\n",
       "    <tr>\n",
       "      <th>weather</th>\n",
       "      <td>91</td>\n",
       "      <td>0.0</td>\n",
       "    </tr>\n",
       "    <tr>\n",
       "      <th>sales</th>\n",
       "      <td>0</td>\n",
       "      <td>0.0</td>\n",
       "    </tr>\n",
       "  </tbody>\n",
       "</table>\n",
       "</div>"
      ],
      "text/plain": [
       "            N    R\n",
       "fx       1076  0.6\n",
       "fx-fxcm   286  0.2\n",
       "weather    91  0.0\n",
       "sales       0  0.0"
      ]
     },
     "execution_count": 26,
     "metadata": {},
     "output_type": "execute_result"
    }
   ],
   "source": [
    "print(s0._cdf.describe())\n",
    "print(\"series-length: {0:d}\".format(len(s0._cdf)))\n",
    "print(s0._cdf.index[[0, -1]])\n",
    "Selector.nulls(s0._cdf)"
   ]
  },
  {
   "cell_type": "markdown",
   "metadata": {},
   "source": [
    "Resample to monthly, check all not null and write to CSV for R."
   ]
  },
  {
   "cell_type": "code",
   "execution_count": 50,
   "metadata": {},
   "outputs": [],
   "source": [
    "s0.fx()\n",
    "s0s = list(map(lambda x: s0.resample(x), ['fx0', 'weather', 'sales']))\n",
    "ts0s = list(map(lambda x: all(x.notnull()), s0s))\n",
    "          \n",
    "assert all(ts0s)"
   ]
  },
  {
   "cell_type": "code",
   "execution_count": 54,
   "metadata": {},
   "outputs": [],
   "source": [
    "df0 = pd.DataFrame(s0s).transpose()\n",
    "df0.to_csv(\"sales0-M.csv\")"
   ]
  }
 ],
 "metadata": {
  "kernelspec": {
   "display_name": "Python 3",
   "language": "python",
   "name": "python3"
  },
  "language_info": {
   "codemirror_mode": {
    "name": "ipython",
    "version": 3
   },
   "file_extension": ".py",
   "mimetype": "text/x-python",
   "name": "python",
   "nbconvert_exporter": "python",
   "pygments_lexer": "ipython3",
   "version": "3.6.0"
  }
 },
 "nbformat": 4,
 "nbformat_minor": 2
}
