{
 "cells": [
  {
   "cell_type": "code",
   "execution_count": 112,
   "metadata": {},
   "outputs": [
    {
     "name": "stdout",
     "output_type": "stream",
     "text": [
      "The autoreload extension is already loaded. To reload it, use:\n",
      "  %reload_ext autoreload\n"
     ]
    }
   ],
   "source": [
    "import numpy as np\n",
    "import pandas as pd\n",
    "\n",
    "%load_ext autoreload"
   ]
  },
  {
   "cell_type": "code",
   "execution_count": 143,
   "metadata": {},
   "outputs": [],
   "source": [
    "%autoreload 2\n",
    "\n",
    "from ldr import Schema, Filter\n",
    "\n",
    "fx1=\"tests/media/gbp-usd.csv\"\n",
    "sales1=\"tests/media/sales.csv\"\n",
    "wthr1=\"tests/media/london.csv\"\n",
    "fx1a=\"tests/media/gbp-usd2.csv\""
   ]
  },
  {
   "cell_type": "code",
   "execution_count": 145,
   "metadata": {},
   "outputs": [],
   "source": [
    "fx2 = Schema(desc = \"fx-fxcm\")\n",
    "filter0 = Filter(fx1a, fx2)"
   ]
  },
  {
   "cell_type": "code",
   "execution_count": 150,
   "metadata": {},
   "outputs": [
    {
     "name": "stdout",
     "output_type": "stream",
     "text": [
      "<class 'NoneType'>\n",
      "False\n"
     ]
    }
   ],
   "source": [
    "x0 = None\n",
    "print(type(x0))\n",
    "print(filter0._data.empty)"
   ]
  },
  {
   "cell_type": "code",
   "execution_count": 155,
   "metadata": {},
   "outputs": [
    {
     "name": "stdout",
     "output_type": "stream",
     "text": [
      "<class 'NoneType'>\n"
     ]
    }
   ],
   "source": [
    "x0 = filter0._data\n",
    "x0 = None\n",
    "print(type(x0))\n",
    "if type(x0) == t:\n",
    "    print(\"none\")\n"
   ]
  },
  {
   "cell_type": "code",
   "execution_count": 156,
   "metadata": {},
   "outputs": [
    {
     "data": {
      "text/plain": [
       "NoneType"
      ]
     },
     "execution_count": 156,
     "metadata": {},
     "output_type": "execute_result"
    }
   ],
   "source": [
    "type(None)"
   ]
  },
  {
   "cell_type": "code",
   "execution_count": 116,
   "metadata": {},
   "outputs": [
    {
     "name": "stdout",
     "output_type": "stream",
     "text": [
      "('Jan', 'Feb', 'Mar', 'Apr', 'May', 'Jun', 'Jul', 'Aug', 'Sep', 'Oct', 'Nov', 'Dec')\n"
     ]
    }
   ],
   "source": [
    "print(fx2._months)"
   ]
  },
  {
   "cell_type": "code",
   "execution_count": 117,
   "metadata": {},
   "outputs": [
    {
     "data": {
      "text/plain": [
       "5"
      ]
     },
     "execution_count": 117,
     "metadata": {},
     "output_type": "execute_result"
    }
   ],
   "source": [
    "fx2._months.index(\"Jun\")"
   ]
  },
  {
   "cell_type": "code",
   "execution_count": 118,
   "metadata": {},
   "outputs": [],
   "source": [
    "fx0=pd.read_csv(fx1)"
   ]
  },
  {
   "cell_type": "code",
   "execution_count": 119,
   "metadata": {},
   "outputs": [
    {
     "data": {
      "text/plain": [
       "pandas.core.series.Series"
      ]
     },
     "execution_count": 119,
     "metadata": {},
     "output_type": "execute_result"
    }
   ],
   "source": [
    "type(fx0.Month)"
   ]
  },
  {
   "cell_type": "code",
   "execution_count": 120,
   "metadata": {},
   "outputs": [
    {
     "data": {
      "text/plain": [
       "True"
      ]
     },
     "execution_count": 120,
     "metadata": {},
     "output_type": "execute_result"
    }
   ],
   "source": [
    "fx0.Month.dtype.kind == 'O'"
   ]
  },
  {
   "cell_type": "code",
   "execution_count": 121,
   "metadata": {},
   "outputs": [
    {
     "data": {
      "text/html": [
       "<div>\n",
       "<style scoped>\n",
       "    .dataframe tbody tr th:only-of-type {\n",
       "        vertical-align: middle;\n",
       "    }\n",
       "\n",
       "    .dataframe tbody tr th {\n",
       "        vertical-align: top;\n",
       "    }\n",
       "\n",
       "    .dataframe thead th {\n",
       "        text-align: right;\n",
       "    }\n",
       "</style>\n",
       "<table border=\"1\" class=\"dataframe\">\n",
       "  <thead>\n",
       "    <tr style=\"text-align: right;\">\n",
       "      <th></th>\n",
       "      <th>Year</th>\n",
       "      <th>Month</th>\n",
       "      <th>Day</th>\n",
       "    </tr>\n",
       "  </thead>\n",
       "  <tbody>\n",
       "    <tr>\n",
       "      <th>0</th>\n",
       "      <td>2018</td>\n",
       "      <td>7</td>\n",
       "      <td>1</td>\n",
       "    </tr>\n",
       "    <tr>\n",
       "      <th>1</th>\n",
       "      <td>2018</td>\n",
       "      <td>6</td>\n",
       "      <td>29</td>\n",
       "    </tr>\n",
       "    <tr>\n",
       "      <th>2</th>\n",
       "      <td>2018</td>\n",
       "      <td>6</td>\n",
       "      <td>28</td>\n",
       "    </tr>\n",
       "    <tr>\n",
       "      <th>3</th>\n",
       "      <td>2018</td>\n",
       "      <td>6</td>\n",
       "      <td>27</td>\n",
       "    </tr>\n",
       "    <tr>\n",
       "      <th>4</th>\n",
       "      <td>2018</td>\n",
       "      <td>6</td>\n",
       "      <td>26</td>\n",
       "    </tr>\n",
       "    <tr>\n",
       "      <th>5</th>\n",
       "      <td>2018</td>\n",
       "      <td>6</td>\n",
       "      <td>25</td>\n",
       "    </tr>\n",
       "    <tr>\n",
       "      <th>6</th>\n",
       "      <td>2018</td>\n",
       "      <td>6</td>\n",
       "      <td>24</td>\n",
       "    </tr>\n",
       "    <tr>\n",
       "      <th>7</th>\n",
       "      <td>2018</td>\n",
       "      <td>6</td>\n",
       "      <td>22</td>\n",
       "    </tr>\n",
       "    <tr>\n",
       "      <th>8</th>\n",
       "      <td>2018</td>\n",
       "      <td>6</td>\n",
       "      <td>21</td>\n",
       "    </tr>\n",
       "    <tr>\n",
       "      <th>9</th>\n",
       "      <td>2018</td>\n",
       "      <td>6</td>\n",
       "      <td>20</td>\n",
       "    </tr>\n",
       "    <tr>\n",
       "      <th>10</th>\n",
       "      <td>2018</td>\n",
       "      <td>6</td>\n",
       "      <td>19</td>\n",
       "    </tr>\n",
       "    <tr>\n",
       "      <th>11</th>\n",
       "      <td>2018</td>\n",
       "      <td>6</td>\n",
       "      <td>18</td>\n",
       "    </tr>\n",
       "    <tr>\n",
       "      <th>12</th>\n",
       "      <td>2018</td>\n",
       "      <td>6</td>\n",
       "      <td>17</td>\n",
       "    </tr>\n",
       "    <tr>\n",
       "      <th>13</th>\n",
       "      <td>2018</td>\n",
       "      <td>6</td>\n",
       "      <td>15</td>\n",
       "    </tr>\n",
       "    <tr>\n",
       "      <th>14</th>\n",
       "      <td>2018</td>\n",
       "      <td>6</td>\n",
       "      <td>14</td>\n",
       "    </tr>\n",
       "    <tr>\n",
       "      <th>15</th>\n",
       "      <td>2018</td>\n",
       "      <td>6</td>\n",
       "      <td>13</td>\n",
       "    </tr>\n",
       "    <tr>\n",
       "      <th>16</th>\n",
       "      <td>2018</td>\n",
       "      <td>6</td>\n",
       "      <td>12</td>\n",
       "    </tr>\n",
       "    <tr>\n",
       "      <th>17</th>\n",
       "      <td>2018</td>\n",
       "      <td>6</td>\n",
       "      <td>11</td>\n",
       "    </tr>\n",
       "    <tr>\n",
       "      <th>18</th>\n",
       "      <td>2018</td>\n",
       "      <td>6</td>\n",
       "      <td>10</td>\n",
       "    </tr>\n",
       "    <tr>\n",
       "      <th>19</th>\n",
       "      <td>2018</td>\n",
       "      <td>6</td>\n",
       "      <td>8</td>\n",
       "    </tr>\n",
       "    <tr>\n",
       "      <th>20</th>\n",
       "      <td>2018</td>\n",
       "      <td>6</td>\n",
       "      <td>7</td>\n",
       "    </tr>\n",
       "    <tr>\n",
       "      <th>21</th>\n",
       "      <td>2018</td>\n",
       "      <td>6</td>\n",
       "      <td>6</td>\n",
       "    </tr>\n",
       "    <tr>\n",
       "      <th>22</th>\n",
       "      <td>2018</td>\n",
       "      <td>6</td>\n",
       "      <td>5</td>\n",
       "    </tr>\n",
       "    <tr>\n",
       "      <th>23</th>\n",
       "      <td>2018</td>\n",
       "      <td>6</td>\n",
       "      <td>4</td>\n",
       "    </tr>\n",
       "    <tr>\n",
       "      <th>24</th>\n",
       "      <td>2018</td>\n",
       "      <td>6</td>\n",
       "      <td>3</td>\n",
       "    </tr>\n",
       "    <tr>\n",
       "      <th>25</th>\n",
       "      <td>2018</td>\n",
       "      <td>6</td>\n",
       "      <td>1</td>\n",
       "    </tr>\n",
       "    <tr>\n",
       "      <th>26</th>\n",
       "      <td>2018</td>\n",
       "      <td>5</td>\n",
       "      <td>31</td>\n",
       "    </tr>\n",
       "    <tr>\n",
       "      <th>27</th>\n",
       "      <td>2018</td>\n",
       "      <td>5</td>\n",
       "      <td>30</td>\n",
       "    </tr>\n",
       "    <tr>\n",
       "      <th>28</th>\n",
       "      <td>2018</td>\n",
       "      <td>5</td>\n",
       "      <td>29</td>\n",
       "    </tr>\n",
       "    <tr>\n",
       "      <th>29</th>\n",
       "      <td>2018</td>\n",
       "      <td>5</td>\n",
       "      <td>28</td>\n",
       "    </tr>\n",
       "    <tr>\n",
       "      <th>...</th>\n",
       "      <td>...</td>\n",
       "      <td>...</td>\n",
       "      <td>...</td>\n",
       "    </tr>\n",
       "    <tr>\n",
       "      <th>758</th>\n",
       "      <td>2015</td>\n",
       "      <td>8</td>\n",
       "      <td>11</td>\n",
       "    </tr>\n",
       "    <tr>\n",
       "      <th>759</th>\n",
       "      <td>2015</td>\n",
       "      <td>8</td>\n",
       "      <td>10</td>\n",
       "    </tr>\n",
       "    <tr>\n",
       "      <th>760</th>\n",
       "      <td>2015</td>\n",
       "      <td>8</td>\n",
       "      <td>7</td>\n",
       "    </tr>\n",
       "    <tr>\n",
       "      <th>761</th>\n",
       "      <td>2015</td>\n",
       "      <td>8</td>\n",
       "      <td>6</td>\n",
       "    </tr>\n",
       "    <tr>\n",
       "      <th>762</th>\n",
       "      <td>2015</td>\n",
       "      <td>8</td>\n",
       "      <td>5</td>\n",
       "    </tr>\n",
       "    <tr>\n",
       "      <th>763</th>\n",
       "      <td>2015</td>\n",
       "      <td>8</td>\n",
       "      <td>4</td>\n",
       "    </tr>\n",
       "    <tr>\n",
       "      <th>764</th>\n",
       "      <td>2015</td>\n",
       "      <td>8</td>\n",
       "      <td>3</td>\n",
       "    </tr>\n",
       "    <tr>\n",
       "      <th>765</th>\n",
       "      <td>2015</td>\n",
       "      <td>7</td>\n",
       "      <td>31</td>\n",
       "    </tr>\n",
       "    <tr>\n",
       "      <th>766</th>\n",
       "      <td>2015</td>\n",
       "      <td>7</td>\n",
       "      <td>30</td>\n",
       "    </tr>\n",
       "    <tr>\n",
       "      <th>767</th>\n",
       "      <td>2015</td>\n",
       "      <td>7</td>\n",
       "      <td>29</td>\n",
       "    </tr>\n",
       "    <tr>\n",
       "      <th>768</th>\n",
       "      <td>2015</td>\n",
       "      <td>7</td>\n",
       "      <td>28</td>\n",
       "    </tr>\n",
       "    <tr>\n",
       "      <th>769</th>\n",
       "      <td>2015</td>\n",
       "      <td>7</td>\n",
       "      <td>27</td>\n",
       "    </tr>\n",
       "    <tr>\n",
       "      <th>770</th>\n",
       "      <td>2015</td>\n",
       "      <td>7</td>\n",
       "      <td>24</td>\n",
       "    </tr>\n",
       "    <tr>\n",
       "      <th>771</th>\n",
       "      <td>2015</td>\n",
       "      <td>7</td>\n",
       "      <td>23</td>\n",
       "    </tr>\n",
       "    <tr>\n",
       "      <th>772</th>\n",
       "      <td>2015</td>\n",
       "      <td>7</td>\n",
       "      <td>22</td>\n",
       "    </tr>\n",
       "    <tr>\n",
       "      <th>773</th>\n",
       "      <td>2015</td>\n",
       "      <td>7</td>\n",
       "      <td>21</td>\n",
       "    </tr>\n",
       "    <tr>\n",
       "      <th>774</th>\n",
       "      <td>2015</td>\n",
       "      <td>7</td>\n",
       "      <td>20</td>\n",
       "    </tr>\n",
       "    <tr>\n",
       "      <th>775</th>\n",
       "      <td>2015</td>\n",
       "      <td>7</td>\n",
       "      <td>17</td>\n",
       "    </tr>\n",
       "    <tr>\n",
       "      <th>776</th>\n",
       "      <td>2015</td>\n",
       "      <td>7</td>\n",
       "      <td>16</td>\n",
       "    </tr>\n",
       "    <tr>\n",
       "      <th>777</th>\n",
       "      <td>2015</td>\n",
       "      <td>7</td>\n",
       "      <td>15</td>\n",
       "    </tr>\n",
       "    <tr>\n",
       "      <th>778</th>\n",
       "      <td>2015</td>\n",
       "      <td>7</td>\n",
       "      <td>14</td>\n",
       "    </tr>\n",
       "    <tr>\n",
       "      <th>779</th>\n",
       "      <td>2015</td>\n",
       "      <td>7</td>\n",
       "      <td>13</td>\n",
       "    </tr>\n",
       "    <tr>\n",
       "      <th>780</th>\n",
       "      <td>2015</td>\n",
       "      <td>7</td>\n",
       "      <td>10</td>\n",
       "    </tr>\n",
       "    <tr>\n",
       "      <th>781</th>\n",
       "      <td>2015</td>\n",
       "      <td>7</td>\n",
       "      <td>9</td>\n",
       "    </tr>\n",
       "    <tr>\n",
       "      <th>782</th>\n",
       "      <td>2015</td>\n",
       "      <td>7</td>\n",
       "      <td>8</td>\n",
       "    </tr>\n",
       "    <tr>\n",
       "      <th>783</th>\n",
       "      <td>2015</td>\n",
       "      <td>7</td>\n",
       "      <td>7</td>\n",
       "    </tr>\n",
       "    <tr>\n",
       "      <th>784</th>\n",
       "      <td>2015</td>\n",
       "      <td>7</td>\n",
       "      <td>6</td>\n",
       "    </tr>\n",
       "    <tr>\n",
       "      <th>785</th>\n",
       "      <td>2015</td>\n",
       "      <td>7</td>\n",
       "      <td>3</td>\n",
       "    </tr>\n",
       "    <tr>\n",
       "      <th>786</th>\n",
       "      <td>2015</td>\n",
       "      <td>7</td>\n",
       "      <td>2</td>\n",
       "    </tr>\n",
       "    <tr>\n",
       "      <th>787</th>\n",
       "      <td>2015</td>\n",
       "      <td>7</td>\n",
       "      <td>1</td>\n",
       "    </tr>\n",
       "  </tbody>\n",
       "</table>\n",
       "<p>788 rows × 3 columns</p>\n",
       "</div>"
      ],
      "text/plain": [
       "     Year  Month  Day\n",
       "0    2018      7    1\n",
       "1    2018      6   29\n",
       "2    2018      6   28\n",
       "3    2018      6   27\n",
       "4    2018      6   26\n",
       "5    2018      6   25\n",
       "6    2018      6   24\n",
       "7    2018      6   22\n",
       "8    2018      6   21\n",
       "9    2018      6   20\n",
       "10   2018      6   19\n",
       "11   2018      6   18\n",
       "12   2018      6   17\n",
       "13   2018      6   15\n",
       "14   2018      6   14\n",
       "15   2018      6   13\n",
       "16   2018      6   12\n",
       "17   2018      6   11\n",
       "18   2018      6   10\n",
       "19   2018      6    8\n",
       "20   2018      6    7\n",
       "21   2018      6    6\n",
       "22   2018      6    5\n",
       "23   2018      6    4\n",
       "24   2018      6    3\n",
       "25   2018      6    1\n",
       "26   2018      5   31\n",
       "27   2018      5   30\n",
       "28   2018      5   29\n",
       "29   2018      5   28\n",
       "..    ...    ...  ...\n",
       "758  2015      8   11\n",
       "759  2015      8   10\n",
       "760  2015      8    7\n",
       "761  2015      8    6\n",
       "762  2015      8    5\n",
       "763  2015      8    4\n",
       "764  2015      8    3\n",
       "765  2015      7   31\n",
       "766  2015      7   30\n",
       "767  2015      7   29\n",
       "768  2015      7   28\n",
       "769  2015      7   27\n",
       "770  2015      7   24\n",
       "771  2015      7   23\n",
       "772  2015      7   22\n",
       "773  2015      7   21\n",
       "774  2015      7   20\n",
       "775  2015      7   17\n",
       "776  2015      7   16\n",
       "777  2015      7   15\n",
       "778  2015      7   14\n",
       "779  2015      7   13\n",
       "780  2015      7   10\n",
       "781  2015      7    9\n",
       "782  2015      7    8\n",
       "783  2015      7    7\n",
       "784  2015      7    6\n",
       "785  2015      7    3\n",
       "786  2015      7    2\n",
       "787  2015      7    1\n",
       "\n",
       "[788 rows x 3 columns]"
      ]
     },
     "execution_count": 121,
     "metadata": {},
     "output_type": "execute_result"
    }
   ],
   "source": [
    "fx0['Month'] = pd.Series(map( lambda x: 1 + fx2._months.index(x), fx0.Month))\n",
    "fx0[['Year', 'Month', 'Day']]"
   ]
  },
  {
   "cell_type": "code",
   "execution_count": 122,
   "metadata": {},
   "outputs": [
    {
     "data": {
      "text/plain": [
       "0     2018-07-01\n",
       "1     2018-06-29\n",
       "2     2018-06-28\n",
       "3     2018-06-27\n",
       "4     2018-06-26\n",
       "5     2018-06-25\n",
       "6     2018-06-24\n",
       "7     2018-06-22\n",
       "8     2018-06-21\n",
       "9     2018-06-20\n",
       "10    2018-06-19\n",
       "11    2018-06-18\n",
       "12    2018-06-17\n",
       "13    2018-06-15\n",
       "14    2018-06-14\n",
       "15    2018-06-13\n",
       "16    2018-06-12\n",
       "17    2018-06-11\n",
       "18    2018-06-10\n",
       "19    2018-06-08\n",
       "20    2018-06-07\n",
       "21    2018-06-06\n",
       "22    2018-06-05\n",
       "23    2018-06-04\n",
       "24    2018-06-03\n",
       "25    2018-06-01\n",
       "26    2018-05-31\n",
       "27    2018-05-30\n",
       "28    2018-05-29\n",
       "29    2018-05-28\n",
       "         ...    \n",
       "758   2015-08-11\n",
       "759   2015-08-10\n",
       "760   2015-08-07\n",
       "761   2015-08-06\n",
       "762   2015-08-05\n",
       "763   2015-08-04\n",
       "764   2015-08-03\n",
       "765   2015-07-31\n",
       "766   2015-07-30\n",
       "767   2015-07-29\n",
       "768   2015-07-28\n",
       "769   2015-07-27\n",
       "770   2015-07-24\n",
       "771   2015-07-23\n",
       "772   2015-07-22\n",
       "773   2015-07-21\n",
       "774   2015-07-20\n",
       "775   2015-07-17\n",
       "776   2015-07-16\n",
       "777   2015-07-15\n",
       "778   2015-07-14\n",
       "779   2015-07-13\n",
       "780   2015-07-10\n",
       "781   2015-07-09\n",
       "782   2015-07-08\n",
       "783   2015-07-07\n",
       "784   2015-07-06\n",
       "785   2015-07-03\n",
       "786   2015-07-02\n",
       "787   2015-07-01\n",
       "Length: 788, dtype: datetime64[ns]"
      ]
     },
     "execution_count": 122,
     "metadata": {},
     "output_type": "execute_result"
    }
   ],
   "source": [
    "pd.to_datetime(fx0[['Year', 'Month', 'Day']])"
   ]
  },
  {
   "cell_type": "code",
   "execution_count": 123,
   "metadata": {},
   "outputs": [
    {
     "data": {
      "text/plain": [
       "Month              int64\n",
       "Day                int64\n",
       "Year               int64\n",
       "Price            float64\n",
       "Open             float64\n",
       "High             float64\n",
       "Low              float64\n",
       "Change           float64\n",
       "dt0       datetime64[ns]\n",
       "dtype: object"
      ]
     },
     "execution_count": 123,
     "metadata": {},
     "output_type": "execute_result"
    }
   ],
   "source": [
    "filter0._data['dt0'] = filter0.series(\"datetime\")\n",
    "filter0._data.dtypes"
   ]
  },
  {
   "cell_type": "code",
   "execution_count": 124,
   "metadata": {},
   "outputs": [
    {
     "data": {
      "text/plain": [
       "Month              int64\n",
       "Day                int64\n",
       "Year               int64\n",
       "Price            float64\n",
       "Open             float64\n",
       "High             float64\n",
       "Low              float64\n",
       "Change           float64\n",
       "dt0       datetime64[ns]\n",
       "dtype: object"
      ]
     },
     "execution_count": 124,
     "metadata": {},
     "output_type": "execute_result"
    }
   ],
   "source": [
    "filter0.series(\"datetime\", index=True)\n",
    "filter0._data.dtypes"
   ]
  },
  {
   "cell_type": "code",
   "execution_count": 125,
   "metadata": {},
   "outputs": [
    {
     "data": {
      "text/html": [
       "<div>\n",
       "<style scoped>\n",
       "    .dataframe tbody tr th:only-of-type {\n",
       "        vertical-align: middle;\n",
       "    }\n",
       "\n",
       "    .dataframe tbody tr th {\n",
       "        vertical-align: top;\n",
       "    }\n",
       "\n",
       "    .dataframe thead th {\n",
       "        text-align: right;\n",
       "    }\n",
       "</style>\n",
       "<table border=\"1\" class=\"dataframe\">\n",
       "  <thead>\n",
       "    <tr style=\"text-align: right;\">\n",
       "      <th></th>\n",
       "      <th>Month</th>\n",
       "      <th>Day</th>\n",
       "      <th>Year</th>\n",
       "      <th>Price</th>\n",
       "      <th>Open</th>\n",
       "      <th>High</th>\n",
       "      <th>Low</th>\n",
       "      <th>Change</th>\n",
       "      <th>dt0</th>\n",
       "    </tr>\n",
       "  </thead>\n",
       "  <tbody>\n",
       "    <tr>\n",
       "      <th>2018-07-01</th>\n",
       "      <td>7</td>\n",
       "      <td>1</td>\n",
       "      <td>2018</td>\n",
       "      <td>1.3209</td>\n",
       "      <td>1.3186</td>\n",
       "      <td>1.3209</td>\n",
       "      <td>1.3186</td>\n",
       "      <td>0.00</td>\n",
       "      <td>2018-07-01</td>\n",
       "    </tr>\n",
       "    <tr>\n",
       "      <th>2018-06-29</th>\n",
       "      <td>6</td>\n",
       "      <td>29</td>\n",
       "      <td>2018</td>\n",
       "      <td>1.3209</td>\n",
       "      <td>1.3077</td>\n",
       "      <td>1.3215</td>\n",
       "      <td>1.3068</td>\n",
       "      <td>1.00</td>\n",
       "      <td>2018-06-29</td>\n",
       "    </tr>\n",
       "    <tr>\n",
       "      <th>2018-06-28</th>\n",
       "      <td>6</td>\n",
       "      <td>28</td>\n",
       "      <td>2018</td>\n",
       "      <td>1.3078</td>\n",
       "      <td>1.3114</td>\n",
       "      <td>1.3123</td>\n",
       "      <td>1.3050</td>\n",
       "      <td>-0.27</td>\n",
       "      <td>2018-06-28</td>\n",
       "    </tr>\n",
       "    <tr>\n",
       "      <th>2018-06-27</th>\n",
       "      <td>6</td>\n",
       "      <td>27</td>\n",
       "      <td>2018</td>\n",
       "      <td>1.3113</td>\n",
       "      <td>1.3229</td>\n",
       "      <td>1.3245</td>\n",
       "      <td>1.3107</td>\n",
       "      <td>-0.87</td>\n",
       "      <td>2018-06-27</td>\n",
       "    </tr>\n",
       "    <tr>\n",
       "      <th>2018-06-26</th>\n",
       "      <td>6</td>\n",
       "      <td>26</td>\n",
       "      <td>2018</td>\n",
       "      <td>1.3228</td>\n",
       "      <td>1.3284</td>\n",
       "      <td>1.3294</td>\n",
       "      <td>1.3192</td>\n",
       "      <td>-0.37</td>\n",
       "      <td>2018-06-26</td>\n",
       "    </tr>\n",
       "  </tbody>\n",
       "</table>\n",
       "</div>"
      ],
      "text/plain": [
       "            Month  Day  Year   Price    Open    High     Low  Change  \\\n",
       "2018-07-01      7    1  2018  1.3209  1.3186  1.3209  1.3186    0.00   \n",
       "2018-06-29      6   29  2018  1.3209  1.3077  1.3215  1.3068    1.00   \n",
       "2018-06-28      6   28  2018  1.3078  1.3114  1.3123  1.3050   -0.27   \n",
       "2018-06-27      6   27  2018  1.3113  1.3229  1.3245  1.3107   -0.87   \n",
       "2018-06-26      6   26  2018  1.3228  1.3284  1.3294  1.3192   -0.37   \n",
       "\n",
       "                  dt0  \n",
       "2018-07-01 2018-07-01  \n",
       "2018-06-29 2018-06-29  \n",
       "2018-06-28 2018-06-28  \n",
       "2018-06-27 2018-06-27  \n",
       "2018-06-26 2018-06-26  "
      ]
     },
     "execution_count": 125,
     "metadata": {},
     "output_type": "execute_result"
    }
   ],
   "source": [
    "filter0._data.head()"
   ]
  },
  {
   "cell_type": "code",
   "execution_count": 132,
   "metadata": {},
   "outputs": [
    {
     "data": {
      "text/plain": [
       "2015-07-31    1.555991\n",
       "2015-08-31    1.557929\n",
       "2015-09-30    1.533273\n",
       "2015-10-31    1.533168\n",
       "2015-11-30    1.519305\n",
       "2015-12-31    1.498091\n",
       "2016-01-31    1.440424\n",
       "2016-02-29    1.431329\n",
       "2016-03-31    1.425387\n",
       "2016-04-30    1.431343\n",
       "2016-05-31    1.452391\n",
       "2016-06-30    1.421055\n",
       "2016-07-31    1.314776\n",
       "2016-08-31    1.310461\n",
       "2016-09-30    1.314859\n",
       "2016-10-31    1.233462\n",
       "2016-11-30    1.244145\n",
       "2016-12-31    1.247350\n",
       "2017-01-31    1.235336\n",
       "2017-02-28    1.248875\n",
       "2017-03-31    1.234743\n",
       "2017-04-30    1.264385\n",
       "2017-05-31    1.292213\n",
       "2017-06-30    1.281214\n",
       "2017-07-31    1.299890\n",
       "2017-08-31    1.295700\n",
       "2017-09-30    1.331552\n",
       "2017-10-31    1.320150\n",
       "2017-11-30    1.323077\n",
       "2017-12-31    1.340343\n",
       "2018-01-31    1.381435\n",
       "2018-02-28    1.396380\n",
       "2018-03-31    1.397627\n",
       "2018-04-30    1.407024\n",
       "2018-05-31    1.346022\n",
       "2018-06-30    1.329212\n",
       "2018-07-31    1.320900\n",
       "Freq: M, Name: Price, dtype: float64"
      ]
     },
     "execution_count": 132,
     "metadata": {},
     "output_type": "execute_result"
    }
   ],
   "source": [
    "r0=filter0.series(\"value\")\n",
    "r0.resample(\"M\").mean()"
   ]
  },
  {
   "cell_type": "markdown",
   "metadata": {},
   "source": [
    "This is all that is needed for the FX data"
   ]
  },
  {
   "cell_type": "code",
   "execution_count": 83,
   "metadata": {},
   "outputs": [],
   "source": [
    "sales = Schema(desc = \"sales\")\n",
    "filter1 = Filter(sales1, sales)"
   ]
  },
  {
   "cell_type": "code",
   "execution_count": 80,
   "metadata": {},
   "outputs": [
    {
     "data": {
      "text/plain": [
       "Date            object\n",
       "Tickets Sold     int64\n",
       "dtype: object"
      ]
     },
     "execution_count": 80,
     "metadata": {},
     "output_type": "execute_result"
    }
   ],
   "source": [
    "filter1._data.dtypes"
   ]
  },
  {
   "cell_type": "code",
   "execution_count": 84,
   "metadata": {},
   "outputs": [
    {
     "data": {
      "text/plain": [
       "0      2018-07-18\n",
       "1      2018-07-17\n",
       "2      2018-07-16\n",
       "3      2018-07-15\n",
       "4      2018-07-14\n",
       "5      2018-07-13\n",
       "6      2018-07-12\n",
       "7      2018-07-11\n",
       "8      2018-07-10\n",
       "9      2018-07-09\n",
       "10     2018-07-08\n",
       "11     2018-07-07\n",
       "12     2018-07-06\n",
       "13     2018-07-05\n",
       "14     2018-07-04\n",
       "15     2018-07-03\n",
       "16     2018-07-02\n",
       "17     2018-07-01\n",
       "18     2018-06-30\n",
       "19     2018-06-29\n",
       "20     2018-06-28\n",
       "21     2018-06-27\n",
       "22     2018-06-26\n",
       "23     2018-06-25\n",
       "24     2018-06-24\n",
       "25     2018-06-23\n",
       "26     2018-06-22\n",
       "27     2018-06-21\n",
       "28     2018-06-20\n",
       "29     2018-06-19\n",
       "          ...    \n",
       "1834   2013-07-10\n",
       "1835   2013-07-09\n",
       "1836   2013-07-08\n",
       "1837   2013-07-07\n",
       "1838   2013-07-06\n",
       "1839   2013-07-05\n",
       "1840   2013-07-04\n",
       "1841   2013-07-03\n",
       "1842   2013-07-02\n",
       "1843   2013-07-01\n",
       "1844   2013-06-30\n",
       "1845   2013-06-29\n",
       "1846   2013-06-28\n",
       "1847   2013-06-27\n",
       "1848   2013-06-26\n",
       "1849   2013-06-25\n",
       "1850   2013-06-24\n",
       "1851   2013-06-23\n",
       "1852   2013-06-22\n",
       "1853   2013-06-21\n",
       "1854   2013-06-20\n",
       "1855   2013-06-19\n",
       "1856   2013-06-18\n",
       "1857   2013-06-17\n",
       "1858   2013-06-16\n",
       "1859   2013-06-15\n",
       "1860   2013-06-14\n",
       "1861   2013-06-13\n",
       "1862   2013-06-12\n",
       "1863   2013-06-11\n",
       "Name: Date, Length: 1864, dtype: datetime64[ns]"
      ]
     },
     "execution_count": 84,
     "metadata": {},
     "output_type": "execute_result"
    }
   ],
   "source": [
    "pd.to_datetime(filter1._data.Date)"
   ]
  },
  {
   "cell_type": "code",
   "execution_count": 85,
   "metadata": {},
   "outputs": [
    {
     "data": {
      "text/plain": [
       "Date            object\n",
       "Tickets Sold     int64\n",
       "dtype: object"
      ]
     },
     "execution_count": 85,
     "metadata": {},
     "output_type": "execute_result"
    }
   ],
   "source": [
    "filter1.series(\"datetime\", index=True)\n",
    "filter1._data.dtypes"
   ]
  },
  {
   "cell_type": "code",
   "execution_count": 86,
   "metadata": {},
   "outputs": [
    {
     "data": {
      "text/html": [
       "<div>\n",
       "<style scoped>\n",
       "    .dataframe tbody tr th:only-of-type {\n",
       "        vertical-align: middle;\n",
       "    }\n",
       "\n",
       "    .dataframe tbody tr th {\n",
       "        vertical-align: top;\n",
       "    }\n",
       "\n",
       "    .dataframe thead th {\n",
       "        text-align: right;\n",
       "    }\n",
       "</style>\n",
       "<table border=\"1\" class=\"dataframe\">\n",
       "  <thead>\n",
       "    <tr style=\"text-align: right;\">\n",
       "      <th></th>\n",
       "      <th>Date</th>\n",
       "      <th>Tickets Sold</th>\n",
       "    </tr>\n",
       "    <tr>\n",
       "      <th>Date</th>\n",
       "      <th></th>\n",
       "      <th></th>\n",
       "    </tr>\n",
       "  </thead>\n",
       "  <tbody>\n",
       "    <tr>\n",
       "      <th>2018-07-18</th>\n",
       "      <td>2018-07-18</td>\n",
       "      <td>1587</td>\n",
       "    </tr>\n",
       "    <tr>\n",
       "      <th>2018-07-17</th>\n",
       "      <td>2018-07-17</td>\n",
       "      <td>1576</td>\n",
       "    </tr>\n",
       "    <tr>\n",
       "      <th>2018-07-16</th>\n",
       "      <td>2018-07-16</td>\n",
       "      <td>1665</td>\n",
       "    </tr>\n",
       "    <tr>\n",
       "      <th>2018-07-15</th>\n",
       "      <td>2018-07-15</td>\n",
       "      <td>1639</td>\n",
       "    </tr>\n",
       "    <tr>\n",
       "      <th>2018-07-14</th>\n",
       "      <td>2018-07-14</td>\n",
       "      <td>1391</td>\n",
       "    </tr>\n",
       "  </tbody>\n",
       "</table>\n",
       "</div>"
      ],
      "text/plain": [
       "                  Date  Tickets Sold\n",
       "Date                                \n",
       "2018-07-18  2018-07-18          1587\n",
       "2018-07-17  2018-07-17          1576\n",
       "2018-07-16  2018-07-16          1665\n",
       "2018-07-15  2018-07-15          1639\n",
       "2018-07-14  2018-07-14          1391"
      ]
     },
     "execution_count": 86,
     "metadata": {},
     "output_type": "execute_result"
    }
   ],
   "source": [
    "filter1._data.head()"
   ]
  },
  {
   "cell_type": "code",
   "execution_count": 94,
   "metadata": {},
   "outputs": [],
   "source": [
    "weather = Schema(desc = \"weather\")\n",
    "filter2 = Filter(wthr1, weather)"
   ]
  },
  {
   "cell_type": "code",
   "execution_count": 89,
   "metadata": {},
   "outputs": [
    {
     "data": {
      "text/html": [
       "<div>\n",
       "<style scoped>\n",
       "    .dataframe tbody tr th:only-of-type {\n",
       "        vertical-align: middle;\n",
       "    }\n",
       "\n",
       "    .dataframe tbody tr th {\n",
       "        vertical-align: top;\n",
       "    }\n",
       "\n",
       "    .dataframe thead th {\n",
       "        text-align: right;\n",
       "    }\n",
       "</style>\n",
       "<table border=\"1\" class=\"dataframe\">\n",
       "  <thead>\n",
       "    <tr style=\"text-align: right;\">\n",
       "      <th></th>\n",
       "      <th>STATION</th>\n",
       "      <th>NAME</th>\n",
       "      <th>DATE</th>\n",
       "      <th>PRCP</th>\n",
       "      <th>TAVG</th>\n",
       "      <th>TMAX</th>\n",
       "      <th>TMIN</th>\n",
       "    </tr>\n",
       "  </thead>\n",
       "  <tbody>\n",
       "    <tr>\n",
       "      <th>0</th>\n",
       "      <td>UKM00003772</td>\n",
       "      <td>HEATHROW UK</td>\n",
       "      <td>01/07/2013</td>\n",
       "      <td>0.0</td>\n",
       "      <td>16.6</td>\n",
       "      <td>21.3</td>\n",
       "      <td>NaN</td>\n",
       "    </tr>\n",
       "    <tr>\n",
       "      <th>1</th>\n",
       "      <td>UKM00003772</td>\n",
       "      <td>HEATHROW UK</td>\n",
       "      <td>02/07/2013</td>\n",
       "      <td>0.0</td>\n",
       "      <td>14.4</td>\n",
       "      <td>17.9</td>\n",
       "      <td>NaN</td>\n",
       "    </tr>\n",
       "    <tr>\n",
       "      <th>2</th>\n",
       "      <td>UKM00003772</td>\n",
       "      <td>HEATHROW UK</td>\n",
       "      <td>03/07/2013</td>\n",
       "      <td>1.3</td>\n",
       "      <td>17.0</td>\n",
       "      <td>21.5</td>\n",
       "      <td>NaN</td>\n",
       "    </tr>\n",
       "    <tr>\n",
       "      <th>3</th>\n",
       "      <td>UKM00003772</td>\n",
       "      <td>HEATHROW UK</td>\n",
       "      <td>04/07/2013</td>\n",
       "      <td>0.0</td>\n",
       "      <td>18.3</td>\n",
       "      <td>24.9</td>\n",
       "      <td>NaN</td>\n",
       "    </tr>\n",
       "    <tr>\n",
       "      <th>4</th>\n",
       "      <td>UKM00003772</td>\n",
       "      <td>HEATHROW UK</td>\n",
       "      <td>05/07/2013</td>\n",
       "      <td>0.0</td>\n",
       "      <td>19.1</td>\n",
       "      <td>26.3</td>\n",
       "      <td>NaN</td>\n",
       "    </tr>\n",
       "  </tbody>\n",
       "</table>\n",
       "</div>"
      ],
      "text/plain": [
       "       STATION         NAME        DATE  PRCP  TAVG  TMAX  TMIN\n",
       "0  UKM00003772  HEATHROW UK  01/07/2013   0.0  16.6  21.3   NaN\n",
       "1  UKM00003772  HEATHROW UK  02/07/2013   0.0  14.4  17.9   NaN\n",
       "2  UKM00003772  HEATHROW UK  03/07/2013   1.3  17.0  21.5   NaN\n",
       "3  UKM00003772  HEATHROW UK  04/07/2013   0.0  18.3  24.9   NaN\n",
       "4  UKM00003772  HEATHROW UK  05/07/2013   0.0  19.1  26.3   NaN"
      ]
     },
     "execution_count": 89,
     "metadata": {},
     "output_type": "execute_result"
    }
   ],
   "source": [
    "filter2._data.head()"
   ]
  },
  {
   "cell_type": "code",
   "execution_count": 95,
   "metadata": {},
   "outputs": [
    {
     "data": {
      "text/plain": [
       "0      2013-01-07\n",
       "1      2013-02-07\n",
       "2      2013-03-07\n",
       "3      2013-04-07\n",
       "4      2013-05-07\n",
       "5      2013-06-07\n",
       "6      2013-07-07\n",
       "7      2013-08-07\n",
       "8      2013-09-07\n",
       "9      2013-10-07\n",
       "10     2013-11-07\n",
       "11     2013-12-07\n",
       "12     2013-07-13\n",
       "13     2013-07-14\n",
       "14     2013-07-15\n",
       "15     2013-07-16\n",
       "16     2013-07-17\n",
       "17     2013-07-18\n",
       "18     2013-07-19\n",
       "19     2013-07-20\n",
       "20     2013-07-21\n",
       "21     2013-07-22\n",
       "22     2013-07-23\n",
       "23     2013-07-24\n",
       "24     2013-07-25\n",
       "25     2013-07-26\n",
       "26     2013-07-27\n",
       "27     2013-07-28\n",
       "28     2013-07-29\n",
       "29     2013-07-30\n",
       "          ...    \n",
       "1812   2018-06-19\n",
       "1813   2018-06-20\n",
       "1814   2018-06-21\n",
       "1815   2018-06-22\n",
       "1816   2018-06-23\n",
       "1817   2018-06-24\n",
       "1818   2018-06-25\n",
       "1819   2018-06-26\n",
       "1820   2018-06-27\n",
       "1821   2018-06-28\n",
       "1822   2018-06-29\n",
       "1823   2018-06-30\n",
       "1824   2018-01-07\n",
       "1825   2018-02-07\n",
       "1826   2018-03-07\n",
       "1827   2018-04-07\n",
       "1828   2018-05-07\n",
       "1829   2018-06-07\n",
       "1830   2018-07-07\n",
       "1831   2018-08-07\n",
       "1832   2018-09-07\n",
       "1833   2018-10-07\n",
       "1834   2018-11-07\n",
       "1835   2018-12-07\n",
       "1836   2018-07-13\n",
       "1837   2018-07-14\n",
       "1838   2018-07-15\n",
       "1839   2018-07-16\n",
       "1840   2018-07-17\n",
       "1841   2018-07-18\n",
       "Name: DATE, Length: 1842, dtype: datetime64[ns]"
      ]
     },
     "execution_count": 95,
     "metadata": {},
     "output_type": "execute_result"
    }
   ],
   "source": [
    "filter2.series(\"datetime\", index=True)"
   ]
  },
  {
   "cell_type": "code",
   "execution_count": 96,
   "metadata": {},
   "outputs": [
    {
     "data": {
      "text/html": [
       "<div>\n",
       "<style scoped>\n",
       "    .dataframe tbody tr th:only-of-type {\n",
       "        vertical-align: middle;\n",
       "    }\n",
       "\n",
       "    .dataframe tbody tr th {\n",
       "        vertical-align: top;\n",
       "    }\n",
       "\n",
       "    .dataframe thead th {\n",
       "        text-align: right;\n",
       "    }\n",
       "</style>\n",
       "<table border=\"1\" class=\"dataframe\">\n",
       "  <thead>\n",
       "    <tr style=\"text-align: right;\">\n",
       "      <th></th>\n",
       "      <th>STATION</th>\n",
       "      <th>NAME</th>\n",
       "      <th>DATE</th>\n",
       "      <th>PRCP</th>\n",
       "      <th>TAVG</th>\n",
       "      <th>TMAX</th>\n",
       "      <th>TMIN</th>\n",
       "    </tr>\n",
       "    <tr>\n",
       "      <th>DATE</th>\n",
       "      <th></th>\n",
       "      <th></th>\n",
       "      <th></th>\n",
       "      <th></th>\n",
       "      <th></th>\n",
       "      <th></th>\n",
       "      <th></th>\n",
       "    </tr>\n",
       "  </thead>\n",
       "  <tbody>\n",
       "    <tr>\n",
       "      <th>2013-01-07</th>\n",
       "      <td>UKM00003772</td>\n",
       "      <td>HEATHROW UK</td>\n",
       "      <td>01/07/2013</td>\n",
       "      <td>0.0</td>\n",
       "      <td>16.6</td>\n",
       "      <td>21.3</td>\n",
       "      <td>NaN</td>\n",
       "    </tr>\n",
       "    <tr>\n",
       "      <th>2013-02-07</th>\n",
       "      <td>UKM00003772</td>\n",
       "      <td>HEATHROW UK</td>\n",
       "      <td>02/07/2013</td>\n",
       "      <td>0.0</td>\n",
       "      <td>14.4</td>\n",
       "      <td>17.9</td>\n",
       "      <td>NaN</td>\n",
       "    </tr>\n",
       "    <tr>\n",
       "      <th>2013-03-07</th>\n",
       "      <td>UKM00003772</td>\n",
       "      <td>HEATHROW UK</td>\n",
       "      <td>03/07/2013</td>\n",
       "      <td>1.3</td>\n",
       "      <td>17.0</td>\n",
       "      <td>21.5</td>\n",
       "      <td>NaN</td>\n",
       "    </tr>\n",
       "    <tr>\n",
       "      <th>2013-04-07</th>\n",
       "      <td>UKM00003772</td>\n",
       "      <td>HEATHROW UK</td>\n",
       "      <td>04/07/2013</td>\n",
       "      <td>0.0</td>\n",
       "      <td>18.3</td>\n",
       "      <td>24.9</td>\n",
       "      <td>NaN</td>\n",
       "    </tr>\n",
       "    <tr>\n",
       "      <th>2013-05-07</th>\n",
       "      <td>UKM00003772</td>\n",
       "      <td>HEATHROW UK</td>\n",
       "      <td>05/07/2013</td>\n",
       "      <td>0.0</td>\n",
       "      <td>19.1</td>\n",
       "      <td>26.3</td>\n",
       "      <td>NaN</td>\n",
       "    </tr>\n",
       "  </tbody>\n",
       "</table>\n",
       "</div>"
      ],
      "text/plain": [
       "                STATION         NAME        DATE  PRCP  TAVG  TMAX  TMIN\n",
       "DATE                                                                    \n",
       "2013-01-07  UKM00003772  HEATHROW UK  01/07/2013   0.0  16.6  21.3   NaN\n",
       "2013-02-07  UKM00003772  HEATHROW UK  02/07/2013   0.0  14.4  17.9   NaN\n",
       "2013-03-07  UKM00003772  HEATHROW UK  03/07/2013   1.3  17.0  21.5   NaN\n",
       "2013-04-07  UKM00003772  HEATHROW UK  04/07/2013   0.0  18.3  24.9   NaN\n",
       "2013-05-07  UKM00003772  HEATHROW UK  05/07/2013   0.0  19.1  26.3   NaN"
      ]
     },
     "execution_count": 96,
     "metadata": {},
     "output_type": "execute_result"
    }
   ],
   "source": [
    "filter2._data.head()"
   ]
  },
  {
   "cell_type": "code",
   "execution_count": 55,
   "metadata": {},
   "outputs": [
    {
     "data": {
      "text/plain": [
       "0      2013-01-07\n",
       "1      2013-02-07\n",
       "2      2013-03-07\n",
       "3      2013-04-07\n",
       "4      2013-05-07\n",
       "5      2013-06-07\n",
       "6      2013-07-07\n",
       "7      2013-08-07\n",
       "8      2013-09-07\n",
       "9      2013-10-07\n",
       "10     2013-11-07\n",
       "11     2013-12-07\n",
       "12     2013-07-13\n",
       "13     2013-07-14\n",
       "14     2013-07-15\n",
       "15     2013-07-16\n",
       "16     2013-07-17\n",
       "17     2013-07-18\n",
       "18     2013-07-19\n",
       "19     2013-07-20\n",
       "20     2013-07-21\n",
       "21     2013-07-22\n",
       "22     2013-07-23\n",
       "23     2013-07-24\n",
       "24     2013-07-25\n",
       "25     2013-07-26\n",
       "26     2013-07-27\n",
       "27     2013-07-28\n",
       "28     2013-07-29\n",
       "29     2013-07-30\n",
       "          ...    \n",
       "1812   2018-06-19\n",
       "1813   2018-06-20\n",
       "1814   2018-06-21\n",
       "1815   2018-06-22\n",
       "1816   2018-06-23\n",
       "1817   2018-06-24\n",
       "1818   2018-06-25\n",
       "1819   2018-06-26\n",
       "1820   2018-06-27\n",
       "1821   2018-06-28\n",
       "1822   2018-06-29\n",
       "1823   2018-06-30\n",
       "1824   2018-01-07\n",
       "1825   2018-02-07\n",
       "1826   2018-03-07\n",
       "1827   2018-04-07\n",
       "1828   2018-05-07\n",
       "1829   2018-06-07\n",
       "1830   2018-07-07\n",
       "1831   2018-08-07\n",
       "1832   2018-09-07\n",
       "1833   2018-10-07\n",
       "1834   2018-11-07\n",
       "1835   2018-12-07\n",
       "1836   2018-07-13\n",
       "1837   2018-07-14\n",
       "1838   2018-07-15\n",
       "1839   2018-07-16\n",
       "1840   2018-07-17\n",
       "1841   2018-07-18\n",
       "Name: DATE, Length: 1842, dtype: datetime64[ns]"
      ]
     },
     "execution_count": 55,
     "metadata": {},
     "output_type": "execute_result"
    }
   ],
   "source": [
    "pd.to_datetime(filter2._data['DATE'])"
   ]
  },
  {
   "cell_type": "code",
   "execution_count": 59,
   "metadata": {},
   "outputs": [],
   "source": [
    "fruit = {\"apple\" : 5, \"pear\" : 3, \"banana\" : 4, \"pineapple\" : 1, \"cherry\" : 20}"
   ]
  },
  {
   "cell_type": "code",
   "execution_count": 60,
   "metadata": {},
   "outputs": [
    {
     "data": {
      "text/plain": [
       "['apple']"
      ]
     },
     "execution_count": 60,
     "metadata": {},
     "output_type": "execute_result"
    }
   ],
   "source": [
    "list(filter(lambda x: x == \"apple\", fruit))"
   ]
  },
  {
   "cell_type": "code",
   "execution_count": 61,
   "metadata": {},
   "outputs": [
    {
     "data": {
      "text/plain": [
       "False"
      ]
     },
     "execution_count": 61,
     "metadata": {},
     "output_type": "execute_result"
    }
   ],
   "source": [
    "\"apple1\" in fruit"
   ]
  },
  {
   "cell_type": "code",
   "execution_count": 135,
   "metadata": {},
   "outputs": [
    {
     "data": {
      "text/plain": [
       "pandas.core.series.Series"
      ]
     },
     "execution_count": 135,
     "metadata": {},
     "output_type": "execute_result"
    }
   ],
   "source": [
    "temp0 = filter2._data['TAVG']\n",
    "type(temp0)"
   ]
  },
  {
   "cell_type": "code",
   "execution_count": 110,
   "metadata": {},
   "outputs": [
    {
     "data": {
      "text/plain": [
       "DATE\n",
       "2013-01-31     6\n",
       "2013-02-28     6\n",
       "2013-03-31     6\n",
       "2013-04-30     6\n",
       "2013-05-31     6\n",
       "2013-06-30     6\n",
       "2013-07-31    25\n",
       "2013-08-31    25\n",
       "2013-09-30    24\n",
       "2013-10-31    25\n",
       "2013-11-30    24\n",
       "2013-12-31    25\n",
       "2014-01-31    31\n",
       "2014-02-28    28\n",
       "2014-03-31    31\n",
       "2014-04-30    30\n",
       "2014-05-31    31\n",
       "2014-06-30    30\n",
       "2014-07-31    31\n",
       "2014-08-31    31\n",
       "2014-09-30    30\n",
       "2014-10-31    31\n",
       "2014-11-30    30\n",
       "2014-12-31    31\n",
       "2015-01-31    31\n",
       "2015-02-28    28\n",
       "2015-03-31    31\n",
       "2015-04-30    30\n",
       "2015-05-31    31\n",
       "2015-06-30    30\n",
       "              ..\n",
       "2016-07-31    31\n",
       "2016-08-31    31\n",
       "2016-09-30    30\n",
       "2016-10-31    31\n",
       "2016-11-30    29\n",
       "2016-12-31    31\n",
       "2017-01-31    30\n",
       "2017-02-28    28\n",
       "2017-03-31    31\n",
       "2017-04-30    30\n",
       "2017-05-31    31\n",
       "2017-06-30    30\n",
       "2017-07-31    31\n",
       "2017-08-31    31\n",
       "2017-09-30    30\n",
       "2017-10-31    31\n",
       "2017-11-30    30\n",
       "2017-12-31    31\n",
       "2018-01-31    26\n",
       "2018-02-28    23\n",
       "2018-03-31    26\n",
       "2018-04-30    25\n",
       "2018-05-31    26\n",
       "2018-06-30    25\n",
       "2018-07-31    13\n",
       "2018-08-31     7\n",
       "2018-09-30     7\n",
       "2018-10-31     7\n",
       "2018-11-30     7\n",
       "2018-12-31     7\n",
       "Freq: M, Name: TAVG, Length: 72, dtype: int64"
      ]
     },
     "execution_count": 110,
     "metadata": {},
     "output_type": "execute_result"
    }
   ],
   "source": [
    "temp0.resample(\"M\").count()"
   ]
  },
  {
   "cell_type": "code",
   "execution_count": 140,
   "metadata": {},
   "outputs": [
    {
     "data": {
      "text/plain": [
       "3"
      ]
     },
     "execution_count": 140,
     "metadata": {},
     "output_type": "execute_result"
    }
   ],
   "source": [
    "l0 = [ 1, 2,3 ]\n",
    "len(l0)"
   ]
  }
 ],
 "metadata": {
  "kernelspec": {
   "display_name": "Python 3",
   "language": "python",
   "name": "python3"
  },
  "language_info": {
   "codemirror_mode": {
    "name": "ipython",
    "version": 3
   },
   "file_extension": ".py",
   "mimetype": "text/x-python",
   "name": "python",
   "nbconvert_exporter": "python",
   "pygments_lexer": "ipython3",
   "version": "3.6.0"
  }
 },
 "nbformat": 4,
 "nbformat_minor": 2
}
